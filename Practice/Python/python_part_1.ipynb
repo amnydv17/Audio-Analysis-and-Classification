{
 "cells": [
  {
   "cell_type": "code",
   "execution_count": 1,
   "id": "683a06e8",
   "metadata": {},
   "outputs": [
    {
     "data": {
      "text/plain": [
       "32"
      ]
     },
     "execution_count": 1,
     "metadata": {},
     "output_type": "execute_result"
    }
   ],
   "source": [
    "2**5"
   ]
  },
  {
   "cell_type": "code",
   "execution_count": 2,
   "id": "79b43271",
   "metadata": {},
   "outputs": [
    {
     "data": {
      "text/plain": [
       "17"
      ]
     },
     "execution_count": 2,
     "metadata": {},
     "output_type": "execute_result"
    }
   ],
   "source": [
    "2+3*8-9"
   ]
  },
  {
   "cell_type": "code",
   "execution_count": 3,
   "id": "fc4d4358",
   "metadata": {},
   "outputs": [
    {
     "data": {
      "text/plain": [
       "45"
      ]
     },
     "execution_count": 3,
     "metadata": {},
     "output_type": "execute_result"
    }
   ],
   "source": [
    "(2+3)*(18-9)"
   ]
  },
  {
   "cell_type": "code",
   "execution_count": 4,
   "id": "8fa5dd56",
   "metadata": {},
   "outputs": [
    {
     "data": {
      "text/plain": [
       "0"
      ]
     },
     "execution_count": 4,
     "metadata": {},
     "output_type": "execute_result"
    }
   ],
   "source": [
    "4%2"
   ]
  },
  {
   "cell_type": "code",
   "execution_count": 5,
   "id": "06216264",
   "metadata": {},
   "outputs": [
    {
     "data": {
      "text/plain": [
       "1"
      ]
     },
     "execution_count": 5,
     "metadata": {},
     "output_type": "execute_result"
    }
   ],
   "source": [
    "5%4"
   ]
  },
  {
   "cell_type": "code",
   "execution_count": 7,
   "id": "839676cf",
   "metadata": {},
   "outputs": [],
   "source": [
    "name=43"
   ]
  },
  {
   "cell_type": "code",
   "execution_count": 8,
   "id": "c3ea264f",
   "metadata": {},
   "outputs": [
    {
     "data": {
      "text/plain": [
       "43"
      ]
     },
     "execution_count": 8,
     "metadata": {},
     "output_type": "execute_result"
    }
   ],
   "source": [
    "name"
   ]
  },
  {
   "cell_type": "code",
   "execution_count": 9,
   "id": "132c2482",
   "metadata": {},
   "outputs": [],
   "source": [
    "x=2\n",
    "y=4"
   ]
  },
  {
   "cell_type": "code",
   "execution_count": 10,
   "id": "f6ba0696",
   "metadata": {},
   "outputs": [
    {
     "data": {
      "text/plain": [
       "6"
      ]
     },
     "execution_count": 10,
     "metadata": {},
     "output_type": "execute_result"
    }
   ],
   "source": [
    "x+y"
   ]
  },
  {
   "cell_type": "code",
   "execution_count": 11,
   "id": "8e75b75d",
   "metadata": {},
   "outputs": [],
   "source": [
    "x=x+x"
   ]
  },
  {
   "cell_type": "code",
   "execution_count": 12,
   "id": "427b1eeb",
   "metadata": {},
   "outputs": [
    {
     "data": {
      "text/plain": [
       "4"
      ]
     },
     "execution_count": 12,
     "metadata": {},
     "output_type": "execute_result"
    }
   ],
   "source": [
    "x"
   ]
  },
  {
   "cell_type": "code",
   "execution_count": 13,
   "id": "3dd45744",
   "metadata": {},
   "outputs": [],
   "source": [
    "x=x+x"
   ]
  },
  {
   "cell_type": "code",
   "execution_count": 14,
   "id": "c5ae3d7c",
   "metadata": {},
   "outputs": [
    {
     "data": {
      "text/plain": [
       "8"
      ]
     },
     "execution_count": 14,
     "metadata": {},
     "output_type": "execute_result"
    }
   ],
   "source": [
    "x\n"
   ]
  },
  {
   "cell_type": "code",
   "execution_count": 18,
   "id": "3b21f02d",
   "metadata": {},
   "outputs": [],
   "source": [
    "_var=12"
   ]
  },
  {
   "cell_type": "raw",
   "id": "6a1c6c33",
   "metadata": {},
   "source": [
    "_var"
   ]
  },
  {
   "cell_type": "code",
   "execution_count": 19,
   "id": "c89a523f",
   "metadata": {},
   "outputs": [
    {
     "data": {
      "text/plain": [
       "12"
      ]
     },
     "execution_count": 19,
     "metadata": {},
     "output_type": "execute_result"
    }
   ],
   "source": [
    "_var"
   ]
  },
  {
   "cell_type": "code",
   "execution_count": 20,
   "id": "037e4855",
   "metadata": {},
   "outputs": [],
   "source": [
    "#string"
   ]
  },
  {
   "cell_type": "code",
   "execution_count": 21,
   "id": "472c4909",
   "metadata": {},
   "outputs": [
    {
     "data": {
      "text/plain": [
       "'sigle quote'"
      ]
     },
     "execution_count": 21,
     "metadata": {},
     "output_type": "execute_result"
    }
   ],
   "source": [
    "'sigle quote'"
   ]
  },
  {
   "cell_type": "code",
   "execution_count": 22,
   "id": "a71b2bd9",
   "metadata": {},
   "outputs": [
    {
     "data": {
      "text/plain": [
       "'this is double quote'"
      ]
     },
     "execution_count": 22,
     "metadata": {},
     "output_type": "execute_result"
    }
   ],
   "source": [
    "\"this is double quote\""
   ]
  },
  {
   "cell_type": "code",
   "execution_count": 23,
   "id": "d04d40de",
   "metadata": {},
   "outputs": [
    {
     "data": {
      "text/plain": [
       "\"i can't go outside\""
      ]
     },
     "execution_count": 23,
     "metadata": {},
     "output_type": "execute_result"
    }
   ],
   "source": [
    "\"i can't go outside\""
   ]
  },
  {
   "cell_type": "code",
   "execution_count": 24,
   "id": "e4a2c1e9",
   "metadata": {},
   "outputs": [],
   "source": [
    "x=\"Aman\""
   ]
  },
  {
   "cell_type": "code",
   "execution_count": 25,
   "id": "e7e4c7f2",
   "metadata": {},
   "outputs": [
    {
     "data": {
      "text/plain": [
       "'Aman'"
      ]
     },
     "execution_count": 25,
     "metadata": {},
     "output_type": "execute_result"
    }
   ],
   "source": [
    "x"
   ]
  },
  {
   "cell_type": "code",
   "execution_count": 26,
   "id": "c31c2d22",
   "metadata": {},
   "outputs": [
    {
     "name": "stdout",
     "output_type": "stream",
     "text": [
      "Aman\n"
     ]
    }
   ],
   "source": [
    "print(x)"
   ]
  },
  {
   "cell_type": "code",
   "execution_count": 28,
   "id": "9a197857",
   "metadata": {},
   "outputs": [],
   "source": [
    "num=7\n",
    "name ='dhoni'"
   ]
  },
  {
   "cell_type": "code",
   "execution_count": 29,
   "id": "ff3ac73e",
   "metadata": {},
   "outputs": [
    {
     "data": {
      "text/plain": [
       "'My name is dhoni and number is 7'"
      ]
     },
     "execution_count": 29,
     "metadata": {},
     "output_type": "execute_result"
    }
   ],
   "source": [
    "'My name is {} and number is {}'.format(name,num)"
   ]
  },
  {
   "cell_type": "code",
   "execution_count": 30,
   "id": "d374fa8c",
   "metadata": {},
   "outputs": [
    {
     "name": "stdout",
     "output_type": "stream",
     "text": [
      "My name is dhoni and number is 7\n"
     ]
    }
   ],
   "source": [
    "print('My name is {} and number is {}'.format(name,num))"
   ]
  },
  {
   "cell_type": "code",
   "execution_count": 31,
   "id": "64d56d48",
   "metadata": {},
   "outputs": [
    {
     "data": {
      "text/plain": [
       "'My name is dhoni and number is 7'"
      ]
     },
     "execution_count": 31,
     "metadata": {},
     "output_type": "execute_result"
    }
   ],
   "source": [
    "'My name is {one} and number is {two}'.format(one=name,two=num)"
   ]
  },
  {
   "cell_type": "code",
   "execution_count": 32,
   "id": "2d15288b",
   "metadata": {},
   "outputs": [],
   "source": [
    "#indexing string"
   ]
  },
  {
   "cell_type": "code",
   "execution_count": 42,
   "id": "a8200480",
   "metadata": {},
   "outputs": [],
   "source": [
    "s=\"AmanYadav\""
   ]
  },
  {
   "cell_type": "code",
   "execution_count": 43,
   "id": "7d6b5ac0",
   "metadata": {},
   "outputs": [
    {
     "name": "stdout",
     "output_type": "stream",
     "text": [
      "manY\n"
     ]
    }
   ],
   "source": [
    "print(s[1:5])"
   ]
  },
  {
   "cell_type": "code",
   "execution_count": 44,
   "id": "8bb64b25",
   "metadata": {},
   "outputs": [
    {
     "name": "stdout",
     "output_type": "stream",
     "text": [
      "AmanYadav\n"
     ]
    }
   ],
   "source": [
    "print(s[0:])"
   ]
  },
  {
   "cell_type": "code",
   "execution_count": 45,
   "id": "5f29de92",
   "metadata": {},
   "outputs": [
    {
     "name": "stdout",
     "output_type": "stream",
     "text": [
      "Ama\n"
     ]
    }
   ],
   "source": [
    "print(s[:3])"
   ]
  },
  {
   "cell_type": "code",
   "execution_count": 46,
   "id": "03c96e5d",
   "metadata": {},
   "outputs": [],
   "source": [
    "##list"
   ]
  },
  {
   "cell_type": "code",
   "execution_count": 47,
   "id": "65f1243e",
   "metadata": {},
   "outputs": [],
   "source": [
    "#like an array"
   ]
  },
  {
   "cell_type": "code",
   "execution_count": 50,
   "id": "2ff90e1b",
   "metadata": {},
   "outputs": [
    {
     "name": "stdout",
     "output_type": "stream",
     "text": [
      "[1, 2, 3, 3]\n"
     ]
    }
   ],
   "source": [
    "print([1,2,3,3])"
   ]
  },
  {
   "cell_type": "code",
   "execution_count": 49,
   "id": "87b4d7ef",
   "metadata": {},
   "outputs": [
    {
     "data": {
      "text/plain": [
       "['a', 'b', 'c', 'd']"
      ]
     },
     "execution_count": 49,
     "metadata": {},
     "output_type": "execute_result"
    }
   ],
   "source": [
    "['a','b','c','d']"
   ]
  },
  {
   "cell_type": "code",
   "execution_count": 51,
   "id": "a21070cc",
   "metadata": {},
   "outputs": [],
   "source": [
    "my_list=[1, 2, 3, 3]"
   ]
  },
  {
   "cell_type": "code",
   "execution_count": 52,
   "id": "525d0b31",
   "metadata": {},
   "outputs": [
    {
     "name": "stdout",
     "output_type": "stream",
     "text": [
      "[1, 2, 3, 3]\n"
     ]
    }
   ],
   "source": [
    "print(my_list)"
   ]
  },
  {
   "cell_type": "code",
   "execution_count": 56,
   "id": "117a4432",
   "metadata": {},
   "outputs": [],
   "source": [
    "my_list.append(7)"
   ]
  },
  {
   "cell_type": "code",
   "execution_count": 57,
   "id": "d476ab97",
   "metadata": {},
   "outputs": [
    {
     "data": {
      "text/plain": [
       "[1, 2, 3, 3, 7, 7]"
      ]
     },
     "execution_count": 57,
     "metadata": {},
     "output_type": "execute_result"
    }
   ],
   "source": [
    "my_list"
   ]
  },
  {
   "cell_type": "code",
   "execution_count": 59,
   "id": "847923c4",
   "metadata": {},
   "outputs": [],
   "source": [
    "my_list[2]=4\n",
    "my_list[4]=5"
   ]
  },
  {
   "cell_type": "code",
   "execution_count": 60,
   "id": "d170f82f",
   "metadata": {},
   "outputs": [
    {
     "data": {
      "text/plain": [
       "[1, 2, 4, 3, 5, 7]"
      ]
     },
     "execution_count": 60,
     "metadata": {},
     "output_type": "execute_result"
    }
   ],
   "source": [
    "my_list"
   ]
  },
  {
   "cell_type": "code",
   "execution_count": 61,
   "id": "a4bb90a9",
   "metadata": {},
   "outputs": [],
   "source": [
    "name=[1, 2, 4, [3, 5], 7]"
   ]
  },
  {
   "cell_type": "code",
   "execution_count": 62,
   "id": "45d06042",
   "metadata": {},
   "outputs": [
    {
     "data": {
      "text/plain": [
       "[3, 5]"
      ]
     },
     "execution_count": 62,
     "metadata": {},
     "output_type": "execute_result"
    }
   ],
   "source": [
    "name[3]"
   ]
  },
  {
   "cell_type": "code",
   "execution_count": 63,
   "id": "b633576d",
   "metadata": {},
   "outputs": [
    {
     "data": {
      "text/plain": [
       "5"
      ]
     },
     "execution_count": 63,
     "metadata": {},
     "output_type": "execute_result"
    }
   ],
   "source": [
    "name[3][1]"
   ]
  },
  {
   "cell_type": "code",
   "execution_count": 64,
   "id": "d66d3f52",
   "metadata": {},
   "outputs": [],
   "source": [
    "name=[1, 2, 4, [3, 5,['Aman']], 7]"
   ]
  },
  {
   "cell_type": "code",
   "execution_count": 69,
   "id": "7a270494",
   "metadata": {},
   "outputs": [
    {
     "name": "stdout",
     "output_type": "stream",
     "text": [
      "Aman\n"
     ]
    }
   ],
   "source": [
    "print(name[3][2][0])"
   ]
  },
  {
   "cell_type": "code",
   "execution_count": null,
   "id": "0d1ac05e",
   "metadata": {},
   "outputs": [],
   "source": []
  }
 ],
 "metadata": {
  "kernelspec": {
   "display_name": "Python 3 (ipykernel)",
   "language": "python",
   "name": "python3"
  },
  "language_info": {
   "codemirror_mode": {
    "name": "ipython",
    "version": 3
   },
   "file_extension": ".py",
   "mimetype": "text/x-python",
   "name": "python",
   "nbconvert_exporter": "python",
   "pygments_lexer": "ipython3",
   "version": "3.11.2"
  }
 },
 "nbformat": 4,
 "nbformat_minor": 5
}

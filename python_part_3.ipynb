{
 "cells": [
  {
   "cell_type": "code",
   "execution_count": 1,
   "id": "c205f9bf",
   "metadata": {},
   "outputs": [],
   "source": [
    "##loop and itration"
   ]
  },
  {
   "cell_type": "code",
   "execution_count": 2,
   "id": "6886946f",
   "metadata": {},
   "outputs": [],
   "source": [
    "##for loop"
   ]
  },
  {
   "cell_type": "code",
   "execution_count": 4,
   "id": "b25eef51",
   "metadata": {},
   "outputs": [],
   "source": [
    "line=[1,2,3,4,5,6,7]"
   ]
  },
  {
   "cell_type": "code",
   "execution_count": 6,
   "id": "d02d88a4",
   "metadata": {},
   "outputs": [
    {
     "name": "stdout",
     "output_type": "stream",
     "text": [
      "Aman\n",
      "Aman\n",
      "Aman\n",
      "Aman\n",
      "Aman\n",
      "Aman\n",
      "Aman\n"
     ]
    }
   ],
   "source": [
    "for aman in line:\n",
    "    print(\"Aman\")"
   ]
  },
  {
   "cell_type": "code",
   "execution_count": 1,
   "id": "51202d85",
   "metadata": {},
   "outputs": [
    {
     "name": "stdout",
     "output_type": "stream",
     "text": [
      "i is :2\n",
      "i is :3\n",
      "i is :4\n",
      "i is :5\n",
      "i is :6\n"
     ]
    }
   ],
   "source": [
    "i = 2\n",
    "\n",
    "while i<7:\n",
    "    print('i is :{}'.format(i))\n",
    "    i=i+1"
   ]
  },
  {
   "cell_type": "code",
   "execution_count": 2,
   "id": "02ebaf99",
   "metadata": {},
   "outputs": [],
   "source": [
    "##Range"
   ]
  },
  {
   "cell_type": "code",
   "execution_count": 5,
   "id": "e3486f25",
   "metadata": {},
   "outputs": [
    {
     "name": "stdout",
     "output_type": "stream",
     "text": [
      "1\n",
      "2\n",
      "3\n",
      "4\n",
      "5\n",
      "6\n",
      "7\n"
     ]
    }
   ],
   "source": [
    "for x in line:\n",
    "    print(x)"
   ]
  },
  {
   "cell_type": "code",
   "execution_count": 6,
   "id": "371f8361",
   "metadata": {},
   "outputs": [
    {
     "data": {
      "text/plain": [
       "range(1, 8)"
      ]
     },
     "execution_count": 6,
     "metadata": {},
     "output_type": "execute_result"
    }
   ],
   "source": [
    "range(1,8)"
   ]
  },
  {
   "cell_type": "code",
   "execution_count": 7,
   "id": "583f5b57",
   "metadata": {},
   "outputs": [
    {
     "name": "stdout",
     "output_type": "stream",
     "text": [
      "1\n",
      "2\n",
      "3\n",
      "4\n",
      "5\n",
      "6\n",
      "7\n"
     ]
    }
   ],
   "source": [
    "for x in range(1,8):\n",
    "    print(x)"
   ]
  },
  {
   "cell_type": "code",
   "execution_count": 8,
   "id": "088c5c49",
   "metadata": {},
   "outputs": [
    {
     "data": {
      "text/plain": [
       "[0, 1, 2, 3, 4, 5, 6]"
      ]
     },
     "execution_count": 8,
     "metadata": {},
     "output_type": "execute_result"
    }
   ],
   "source": [
    "list(range(7))"
   ]
  },
  {
   "cell_type": "code",
   "execution_count": 9,
   "id": "87bcc9ac",
   "metadata": {},
   "outputs": [],
   "source": [
    "##list comprahension"
   ]
  },
  {
   "cell_type": "code",
   "execution_count": 10,
   "id": "e1b8c4d3",
   "metadata": {},
   "outputs": [],
   "source": [
    "x=[1,3,5,7,9]"
   ]
  },
  {
   "cell_type": "code",
   "execution_count": 11,
   "id": "4c3c8e38",
   "metadata": {},
   "outputs": [],
   "source": [
    "out=[]\n",
    "\n",
    "for num in x:\n",
    "    out.append(num**3)"
   ]
  },
  {
   "cell_type": "code",
   "execution_count": 12,
   "id": "4c2a41e8",
   "metadata": {},
   "outputs": [
    {
     "name": "stdout",
     "output_type": "stream",
     "text": [
      "[1, 27, 125, 343, 729]\n"
     ]
    }
   ],
   "source": [
    "print(out)"
   ]
  },
  {
   "cell_type": "code",
   "execution_count": 16,
   "id": "89fa1a5a",
   "metadata": {},
   "outputs": [],
   "source": [
    "out=[num**3 for num in x]"
   ]
  },
  {
   "cell_type": "code",
   "execution_count": 17,
   "id": "ab9ade44",
   "metadata": {},
   "outputs": [
    {
     "name": "stdout",
     "output_type": "stream",
     "text": [
      "[1, 27, 125, 343, 729]\n"
     ]
    }
   ],
   "source": [
    "print(out)"
   ]
  },
  {
   "cell_type": "code",
   "execution_count": 18,
   "id": "9f7b10b2",
   "metadata": {},
   "outputs": [],
   "source": [
    "##function"
   ]
  },
  {
   "cell_type": "code",
   "execution_count": 27,
   "id": "9450dce6",
   "metadata": {},
   "outputs": [],
   "source": [
    "def fun(para='default name'):\n",
    "    print(\"Hello \" + para)"
   ]
  },
  {
   "cell_type": "code",
   "execution_count": 31,
   "id": "50a8fefd",
   "metadata": {},
   "outputs": [
    {
     "name": "stdout",
     "output_type": "stream",
     "text": [
      "Hello Aman\n"
     ]
    }
   ],
   "source": [
    "fun('Aman')"
   ]
  },
  {
   "cell_type": "code",
   "execution_count": 2,
   "id": "e667dc84",
   "metadata": {},
   "outputs": [],
   "source": [
    "def square(num):\n",
    "    return num**2"
   ]
  },
  {
   "cell_type": "code",
   "execution_count": 5,
   "id": "b35a4a0c",
   "metadata": {},
   "outputs": [],
   "source": [
    "output=square(8)"
   ]
  },
  {
   "cell_type": "code",
   "execution_count": 6,
   "id": "67b28091",
   "metadata": {},
   "outputs": [
    {
     "data": {
      "text/plain": [
       "64"
      ]
     },
     "execution_count": 6,
     "metadata": {},
     "output_type": "execute_result"
    }
   ],
   "source": [
    "output"
   ]
  },
  {
   "cell_type": "code",
   "execution_count": 35,
   "id": "cb2630d3",
   "metadata": {},
   "outputs": [],
   "source": [
    "def square(num):\n",
    "    \"\"\"\n",
    "    This is a docstring.\n",
    "    can go multiple line.\n",
    "    this function calculate square of any number.\n",
    "    \"\"\"\n",
    "    return num**2"
   ]
  },
  {
   "cell_type": "code",
   "execution_count": 8,
   "id": "82d8e547",
   "metadata": {},
   "outputs": [
    {
     "data": {
      "text/plain": [
       "150"
      ]
     },
     "execution_count": 8,
     "metadata": {},
     "output_type": "execute_result"
    }
   ],
   "source": [
    "def time(var):\n",
    "    return var*3\n",
    "\n",
    "time(50)"
   ]
  },
  {
   "cell_type": "code",
   "execution_count": 4,
   "id": "6ff5c16a",
   "metadata": {},
   "outputs": [],
   "source": [
    "#Map Function   map(function,list)"
   ]
  },
  {
   "cell_type": "code",
   "execution_count": 9,
   "id": "b450fe72",
   "metadata": {},
   "outputs": [],
   "source": [
    "seq=[1,2,3,4,5]"
   ]
  },
  {
   "cell_type": "code",
   "execution_count": 10,
   "id": "4a9f0137",
   "metadata": {},
   "outputs": [
    {
     "data": {
      "text/plain": [
       "[3, 6, 9, 12, 15]"
      ]
     },
     "execution_count": 10,
     "metadata": {},
     "output_type": "execute_result"
    }
   ],
   "source": [
    "list(map(time,seq))"
   ]
  },
  {
   "cell_type": "code",
   "execution_count": 11,
   "id": "c186033f",
   "metadata": {},
   "outputs": [],
   "source": [
    "# Lamda Function   lambda arguments : expression"
   ]
  },
  {
   "cell_type": "code",
   "execution_count": 18,
   "id": "a9cba446",
   "metadata": {},
   "outputs": [
    {
     "name": "stdout",
     "output_type": "stream",
     "text": [
      "18\n"
     ]
    }
   ],
   "source": [
    "t= lambda var:var*3\n",
    "print(t(6))\n",
    "    \n"
   ]
  },
  {
   "cell_type": "code",
   "execution_count": 19,
   "id": "356a6b29",
   "metadata": {},
   "outputs": [
    {
     "data": {
      "text/plain": [
       "[3, 6, 9, 12, 15]"
      ]
     },
     "execution_count": 19,
     "metadata": {},
     "output_type": "execute_result"
    }
   ],
   "source": [
    "list(map(lambda num : num*3,seq))"
   ]
  },
  {
   "cell_type": "code",
   "execution_count": 20,
   "id": "37d9a22b",
   "metadata": {},
   "outputs": [],
   "source": [
    "# filter function it used using lambda"
   ]
  },
  {
   "cell_type": "code",
   "execution_count": 23,
   "id": "3542e6c7",
   "metadata": {},
   "outputs": [
    {
     "data": {
      "text/plain": [
       "[1, 3, 5]"
      ]
     },
     "execution_count": 23,
     "metadata": {},
     "output_type": "execute_result"
    }
   ],
   "source": [
    "list(filter(lambda num:num%2!=0,seq))"
   ]
  },
  {
   "cell_type": "code",
   "execution_count": 24,
   "id": "da6e0aa3",
   "metadata": {},
   "outputs": [],
   "source": [
    "#message(all function call)"
   ]
  },
  {
   "cell_type": "code",
   "execution_count": 25,
   "id": "a9366c01",
   "metadata": {},
   "outputs": [],
   "source": [
    "s=\"Hello,I am Aman\""
   ]
  },
  {
   "cell_type": "code",
   "execution_count": 30,
   "id": "168940f3",
   "metadata": {},
   "outputs": [
    {
     "name": "stdout",
     "output_type": "stream",
     "text": [
      "hello,i am aman\n"
     ]
    }
   ],
   "source": [
    "aa=s.lower()\n",
    "print(aa)"
   ]
  },
  {
   "cell_type": "code",
   "execution_count": 28,
   "id": "f12e31a7",
   "metadata": {},
   "outputs": [
    {
     "data": {
      "text/plain": [
       "'HELLO,I AM AMAN'"
      ]
     },
     "execution_count": 28,
     "metadata": {},
     "output_type": "execute_result"
    }
   ],
   "source": [
    "s.upper()"
   ]
  },
  {
   "cell_type": "code",
   "execution_count": 32,
   "id": "1cd77fae",
   "metadata": {},
   "outputs": [
    {
     "data": {
      "text/plain": [
       "['Hello,I', 'am', 'Aman']"
      ]
     },
     "execution_count": 32,
     "metadata": {},
     "output_type": "execute_result"
    }
   ],
   "source": [
    "s.split()      #split all string in list with whitespace"
   ]
  },
  {
   "cell_type": "code",
   "execution_count": 33,
   "id": "2e9d5e22",
   "metadata": {},
   "outputs": [],
   "source": [
    "tweet=\"Go Una ! #Sprots\""
   ]
  },
  {
   "cell_type": "code",
   "execution_count": 36,
   "id": "8c997eb1",
   "metadata": {},
   "outputs": [
    {
     "data": {
      "text/plain": [
       "'Go Una ! '"
      ]
     },
     "execution_count": 36,
     "metadata": {},
     "output_type": "execute_result"
    }
   ],
   "source": [
    "tweet.split('#')[0]"
   ]
  },
  {
   "cell_type": "code",
   "execution_count": 38,
   "id": "4fb13aed",
   "metadata": {},
   "outputs": [],
   "source": [
    "d={'k1':1,'k2':2}"
   ]
  },
  {
   "cell_type": "code",
   "execution_count": 39,
   "id": "2dd78d57",
   "metadata": {},
   "outputs": [
    {
     "data": {
      "text/plain": [
       "dict_keys(['k1', 'k2'])"
      ]
     },
     "execution_count": 39,
     "metadata": {},
     "output_type": "execute_result"
    }
   ],
   "source": [
    "d.keys()"
   ]
  },
  {
   "cell_type": "code",
   "execution_count": 40,
   "id": "28687522",
   "metadata": {},
   "outputs": [
    {
     "data": {
      "text/plain": [
       "dict_items([('k1', 1), ('k2', 2)])"
      ]
     },
     "execution_count": 40,
     "metadata": {},
     "output_type": "execute_result"
    }
   ],
   "source": [
    "d.items()"
   ]
  },
  {
   "cell_type": "code",
   "execution_count": 41,
   "id": "d291a6ad",
   "metadata": {},
   "outputs": [
    {
     "data": {
      "text/plain": [
       "dict_values([1, 2])"
      ]
     },
     "execution_count": 41,
     "metadata": {},
     "output_type": "execute_result"
    }
   ],
   "source": [
    "d.values()"
   ]
  },
  {
   "cell_type": "code",
   "execution_count": 42,
   "id": "020a1242",
   "metadata": {},
   "outputs": [],
   "source": [
    "list=[1,2,3,4,5]"
   ]
  },
  {
   "cell_type": "code",
   "execution_count": 43,
   "id": "7db385ef",
   "metadata": {},
   "outputs": [
    {
     "data": {
      "text/plain": [
       "5"
      ]
     },
     "execution_count": 43,
     "metadata": {},
     "output_type": "execute_result"
    }
   ],
   "source": [
    "list.pop()"
   ]
  },
  {
   "cell_type": "code",
   "execution_count": 44,
   "id": "6b9b9e52",
   "metadata": {},
   "outputs": [
    {
     "data": {
      "text/plain": [
       "[1, 2, 3, 4]"
      ]
     },
     "execution_count": 44,
     "metadata": {},
     "output_type": "execute_result"
    }
   ],
   "source": [
    "list"
   ]
  },
  {
   "cell_type": "code",
   "execution_count": 45,
   "id": "1ebc25ea",
   "metadata": {},
   "outputs": [],
   "source": [
    "item=list.pop()"
   ]
  },
  {
   "cell_type": "code",
   "execution_count": 46,
   "id": "3094ec77",
   "metadata": {},
   "outputs": [
    {
     "data": {
      "text/plain": [
       "4"
      ]
     },
     "execution_count": 46,
     "metadata": {},
     "output_type": "execute_result"
    }
   ],
   "source": [
    "item"
   ]
  },
  {
   "cell_type": "code",
   "execution_count": 47,
   "id": "227b4462",
   "metadata": {},
   "outputs": [],
   "source": [
    "list.append(4)"
   ]
  },
  {
   "cell_type": "code",
   "execution_count": 48,
   "id": "ff021bc1",
   "metadata": {},
   "outputs": [],
   "source": [
    "list.append(5)"
   ]
  },
  {
   "cell_type": "code",
   "execution_count": 49,
   "id": "6fc65b55",
   "metadata": {},
   "outputs": [
    {
     "data": {
      "text/plain": [
       "[1, 2, 3, 4, 5]"
      ]
     },
     "execution_count": 49,
     "metadata": {},
     "output_type": "execute_result"
    }
   ],
   "source": [
    "list"
   ]
  },
  {
   "cell_type": "code",
   "execution_count": 50,
   "id": "e4580eec",
   "metadata": {},
   "outputs": [],
   "source": [
    "first=list.pop(0)"
   ]
  },
  {
   "cell_type": "code",
   "execution_count": 51,
   "id": "ed65443c",
   "metadata": {},
   "outputs": [
    {
     "data": {
      "text/plain": [
       "1"
      ]
     },
     "execution_count": 51,
     "metadata": {},
     "output_type": "execute_result"
    }
   ],
   "source": [
    "first"
   ]
  },
  {
   "cell_type": "code",
   "execution_count": 53,
   "id": "39d3c6a3",
   "metadata": {},
   "outputs": [
    {
     "data": {
      "text/plain": [
       "[2, 3, 4, 5]"
      ]
     },
     "execution_count": 53,
     "metadata": {},
     "output_type": "execute_result"
    }
   ],
   "source": [
    "list"
   ]
  },
  {
   "cell_type": "code",
   "execution_count": 57,
   "id": "fb349cf1",
   "metadata": {},
   "outputs": [
    {
     "data": {
      "text/plain": [
       "True"
      ]
     },
     "execution_count": 57,
     "metadata": {},
     "output_type": "execute_result"
    }
   ],
   "source": [
    "2 in list\n"
   ]
  },
  {
   "cell_type": "code",
   "execution_count": 58,
   "id": "65518143",
   "metadata": {},
   "outputs": [
    {
     "data": {
      "text/plain": [
       "True"
      ]
     },
     "execution_count": 58,
     "metadata": {},
     "output_type": "execute_result"
    }
   ],
   "source": [
    "'x' in ['x','y','z']"
   ]
  },
  {
   "cell_type": "code",
   "execution_count": 59,
   "id": "2d2e3112",
   "metadata": {},
   "outputs": [],
   "source": [
    "#tuple unpacking"
   ]
  },
  {
   "cell_type": "code",
   "execution_count": 60,
   "id": "70ea7254",
   "metadata": {},
   "outputs": [],
   "source": [
    "x=[(1,2),(3,4),(5,6)]"
   ]
  },
  {
   "cell_type": "code",
   "execution_count": 62,
   "id": "14407b11",
   "metadata": {},
   "outputs": [
    {
     "data": {
      "text/plain": [
       "4"
      ]
     },
     "execution_count": 62,
     "metadata": {},
     "output_type": "execute_result"
    }
   ],
   "source": [
    "x[1][1]"
   ]
  },
  {
   "cell_type": "code",
   "execution_count": 63,
   "id": "2c15e002",
   "metadata": {},
   "outputs": [],
   "source": [
    "##Extra"
   ]
  },
  {
   "cell_type": "code",
   "execution_count": 64,
   "id": "f3805327",
   "metadata": {},
   "outputs": [
    {
     "name": "stdout",
     "output_type": "stream",
     "text": [
      "(1, 2)\n",
      "(3, 4)\n",
      "(5, 6)\n"
     ]
    }
   ],
   "source": [
    "for item in x:\n",
    "    print (item)"
   ]
  },
  {
   "cell_type": "code",
   "execution_count": 65,
   "id": "9a4b56c0",
   "metadata": {},
   "outputs": [
    {
     "name": "stdout",
     "output_type": "stream",
     "text": [
      "1\n",
      "3\n",
      "5\n"
     ]
    }
   ],
   "source": [
    "for (a,b) in x:\n",
    "    print(a)"
   ]
  },
  {
   "cell_type": "code",
   "execution_count": 66,
   "id": "01aa68bf",
   "metadata": {},
   "outputs": [
    {
     "name": "stdout",
     "output_type": "stream",
     "text": [
      "2\n",
      "4\n",
      "6\n"
     ]
    }
   ],
   "source": [
    "for (a,b) in x:\n",
    "    print(b)"
   ]
  },
  {
   "cell_type": "code",
   "execution_count": null,
   "id": "bbe249b5",
   "metadata": {},
   "outputs": [],
   "source": []
  }
 ],
 "metadata": {
  "kernelspec": {
   "display_name": "Python 3 (ipykernel)",
   "language": "python",
   "name": "python3"
  },
  "language_info": {
   "codemirror_mode": {
    "name": "ipython",
    "version": 3
   },
   "file_extension": ".py",
   "mimetype": "text/x-python",
   "name": "python",
   "nbconvert_exporter": "python",
   "pygments_lexer": "ipython3",
   "version": "3.9.13"
  }
 },
 "nbformat": 4,
 "nbformat_minor": 5
}
